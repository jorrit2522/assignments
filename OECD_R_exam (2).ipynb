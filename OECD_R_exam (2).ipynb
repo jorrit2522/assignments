{
 "cells": [
  {
   "cell_type": "markdown",
   "metadata": {},
   "source": [
    "# Exam\n",
    "\n",
    "\n",
    "|name | student number|\n",
    "|----|----|\n",
    "|Jorrit van den Hurk|1280385|\n",
    "\n",
    "In this exam, we will work with the \"frequently requested health data” from the OECD.\n",
    "Your task is to compute a simple “efficiency score” and make three plots. \n",
    "\n",
    "\n",
    "You will earn a higher grade if you provide nicer graphs.  \n"
   ]
  },
  {
   "cell_type": "markdown",
   "metadata": {},
   "source": [
    "Now you need to call the libaries\n",
    "\n",
    "* ggplot2\n",
    "* dplyr\n",
    "\n"
   ]
  },
  {
   "cell_type": "code",
   "execution_count": 43,
   "metadata": {
    "collapsed": false
   },
   "outputs": [],
   "source": [
    "library(ggplot2)\n",
    "library(dplyr)\n",
    "library(tidyr)"
   ]
  },
  {
   "cell_type": "markdown",
   "metadata": {},
   "source": [
    "First we need to have different packages to create different graphs."
   ]
  },
  {
   "cell_type": "markdown",
   "metadata": {},
   "source": [
    "Now you have to read the de data that we have cleaned during tutorial 3. The csv file is called oecddata.csv"
   ]
  },
  {
   "cell_type": "code",
   "execution_count": 12,
   "metadata": {
    "collapsed": false
   },
   "outputs": [],
   "source": [
    "oecd <- read.csv2('oecddata.csv')"
   ]
  },
  {
   "cell_type": "markdown",
   "metadata": {},
   "source": [
    "Now we have loaded the data in the name oecd."
   ]
  },
  {
   "cell_type": "markdown",
   "metadata": {},
   "source": [
    "To see how the data look like, use the command:\n",
    "\n",
    "head(oecd)\n",
    "\n",
    "With the command\n",
    "\n",
    "oecd\n",
    "\n",
    "\n",
    "You can see the dataset in total."
   ]
  },
  {
   "cell_type": "code",
   "execution_count": 13,
   "metadata": {
    "collapsed": false
   },
   "outputs": [
    {
     "data": {
      "text/html": [
       "<table>\n",
       "<thead><tr><th scope=col>X</th><th scope=col>Country</th><th scope=col>Year</th><th scope=col>Cost</th><th scope=col>LE</th></tr></thead>\n",
       "<tbody>\n",
       "\t<tr><td>1        </td><td>Australia</td><td>2005     </td><td>2842.132 </td><td>80.9     </td></tr>\n",
       "\t<tr><td>2        </td><td>Australia</td><td>2006     </td><td>3023.098 </td><td>81.1     </td></tr>\n",
       "\t<tr><td>3        </td><td>Australia</td><td>2007     </td><td>3196.226 </td><td>81.4     </td></tr>\n",
       "\t<tr><td>4        </td><td>Australia</td><td>2008     </td><td>3310.171 </td><td>81.5     </td></tr>\n",
       "\t<tr><td>5        </td><td>Australia</td><td>2009     </td><td>3564.405 </td><td>81.6     </td></tr>\n",
       "\t<tr><td>6        </td><td>Australia</td><td>2010     </td><td>3607.341 </td><td>81.8     </td></tr>\n",
       "</tbody>\n",
       "</table>\n"
      ],
      "text/latex": [
       "\\begin{tabular}{r|lllll}\n",
       " X & Country & Year & Cost & LE\\\\\n",
       "\\hline\n",
       "\t 1         & Australia & 2005      & 2842.132  & 80.9     \\\\\n",
       "\t 2         & Australia & 2006      & 3023.098  & 81.1     \\\\\n",
       "\t 3         & Australia & 2007      & 3196.226  & 81.4     \\\\\n",
       "\t 4         & Australia & 2008      & 3310.171  & 81.5     \\\\\n",
       "\t 5         & Australia & 2009      & 3564.405  & 81.6     \\\\\n",
       "\t 6         & Australia & 2010      & 3607.341  & 81.8     \\\\\n",
       "\\end{tabular}\n"
      ],
      "text/markdown": [
       "\n",
       "X | Country | Year | Cost | LE | \n",
       "|---|---|---|---|---|---|\n",
       "| 1         | Australia | 2005      | 2842.132  | 80.9      | \n",
       "| 2         | Australia | 2006      | 3023.098  | 81.1      | \n",
       "| 3         | Australia | 2007      | 3196.226  | 81.4      | \n",
       "| 4         | Australia | 2008      | 3310.171  | 81.5      | \n",
       "| 5         | Australia | 2009      | 3564.405  | 81.6      | \n",
       "| 6         | Australia | 2010      | 3607.341  | 81.8      | \n",
       "\n",
       "\n"
      ],
      "text/plain": [
       "  X Country   Year Cost     LE  \n",
       "1 1 Australia 2005 2842.132 80.9\n",
       "2 2 Australia 2006 3023.098 81.1\n",
       "3 3 Australia 2007 3196.226 81.4\n",
       "4 4 Australia 2008 3310.171 81.5\n",
       "5 5 Australia 2009 3564.405 81.6\n",
       "6 6 Australia 2010 3607.341 81.8"
      ]
     },
     "metadata": {},
     "output_type": "display_data"
    }
   ],
   "source": [
    "head(oecd)"
   ]
  },
  {
   "cell_type": "markdown",
   "metadata": {},
   "source": [
    "With the head command we can see the top of the data "
   ]
  },
  {
   "cell_type": "code",
   "execution_count": 15,
   "metadata": {
    "collapsed": false,
    "scrolled": false
   },
   "outputs": [
    {
     "data": {
      "text/html": [
       "<table>\n",
       "<thead><tr><th scope=col>X</th><th scope=col>Country</th><th scope=col>Year</th><th scope=col>Cost</th><th scope=col>LE</th></tr></thead>\n",
       "<tbody>\n",
       "\t<tr><td> 1       </td><td>Australia</td><td>2005     </td><td>2842.132 </td><td>80.9     </td></tr>\n",
       "\t<tr><td> 2       </td><td>Australia</td><td>2006     </td><td>3023.098 </td><td>81.1     </td></tr>\n",
       "\t<tr><td> 3       </td><td>Australia</td><td>2007     </td><td>3196.226 </td><td>81.4     </td></tr>\n",
       "\t<tr><td> 4       </td><td>Australia</td><td>2008     </td><td>3310.171 </td><td>81.5     </td></tr>\n",
       "\t<tr><td> 5       </td><td>Australia</td><td>2009     </td><td>3564.405 </td><td>81.6     </td></tr>\n",
       "\t<tr><td> 6       </td><td>Australia</td><td>2010     </td><td>3607.341 </td><td>81.8     </td></tr>\n",
       "\t<tr><td> 7       </td><td>Australia</td><td>2011     </td><td>3794.087 </td><td>82.0     </td></tr>\n",
       "\t<tr><td> 8       </td><td>Australia</td><td>2012     </td><td>3807.682 </td><td>82.1     </td></tr>\n",
       "\t<tr><td> 9       </td><td>Australia</td><td>2013     </td><td>4176.853 </td><td>82.2     </td></tr>\n",
       "\t<tr><td>10       </td><td>Australia</td><td>2014     </td><td>4206.852 </td><td>82.4     </td></tr>\n",
       "\t<tr><td>11       </td><td>Australia</td><td>2015     </td><td>4420.436 </td><td>  NA     </td></tr>\n",
       "\t<tr><td>12       </td><td>Austria  </td><td>2005     </td><td>3324.079 </td><td>79.4     </td></tr>\n",
       "\t<tr><td>13       </td><td>Austria  </td><td>2006     </td><td>3567.649 </td><td>80.0     </td></tr>\n",
       "\t<tr><td>14       </td><td>Austria  </td><td>2007     </td><td>3718.739 </td><td>80.3     </td></tr>\n",
       "\t<tr><td>15       </td><td>Austria  </td><td>2008     </td><td>3964.849 </td><td>80.5     </td></tr>\n",
       "\t<tr><td>16       </td><td>Austria  </td><td>2009     </td><td>4119.745 </td><td>80.4     </td></tr>\n",
       "\t<tr><td>17       </td><td>Austria  </td><td>2010     </td><td>4236.316 </td><td>80.7     </td></tr>\n",
       "\t<tr><td>18       </td><td>Austria  </td><td>2011     </td><td>4362.343 </td><td>81.1     </td></tr>\n",
       "\t<tr><td>19       </td><td>Austria  </td><td>2012     </td><td>4646.436 </td><td>81.0     </td></tr>\n",
       "\t<tr><td>20       </td><td>Austria  </td><td>2013     </td><td>4806.393 </td><td>81.2     </td></tr>\n",
       "\t<tr><td>21       </td><td>Austria  </td><td>2014     </td><td>4895.999 </td><td>81.6     </td></tr>\n",
       "\t<tr><td>22       </td><td>Austria  </td><td>2015     </td><td>5015.637 </td><td>  NA     </td></tr>\n",
       "\t<tr><td>23       </td><td>Belgium  </td><td>2005     </td><td>2985.809 </td><td>79.1     </td></tr>\n",
       "\t<tr><td>24       </td><td>Belgium  </td><td>2006     </td><td>3136.916 </td><td>79.5     </td></tr>\n",
       "\t<tr><td>25       </td><td>Belgium  </td><td>2007     </td><td>3286.225 </td><td>79.9     </td></tr>\n",
       "\t<tr><td>26       </td><td>Belgium  </td><td>2008     </td><td>3542.354 </td><td>79.8     </td></tr>\n",
       "\t<tr><td>27       </td><td>Belgium  </td><td>2009     </td><td>3804.764 </td><td>80.1     </td></tr>\n",
       "\t<tr><td>28       </td><td>Belgium  </td><td>2010     </td><td>3901.913 </td><td>80.3     </td></tr>\n",
       "\t<tr><td>29       </td><td>Belgium  </td><td>2011     </td><td>4132.311 </td><td>80.7     </td></tr>\n",
       "\t<tr><td>30       </td><td>Belgium  </td><td>2012     </td><td>4286.412 </td><td>80.5     </td></tr>\n",
       "\t<tr><td>...</td><td>...</td><td>...</td><td>...</td><td>...</td></tr>\n",
       "\t<tr><td>356           </td><td>Turkey        </td><td>2008          </td><td> 827.3149     </td><td>73.9          </td></tr>\n",
       "\t<tr><td>357           </td><td>Turkey        </td><td>2009          </td><td> 841.2871     </td><td>74.1          </td></tr>\n",
       "\t<tr><td>358           </td><td>Turkey        </td><td>2010          </td><td> 852.6704     </td><td>74.3          </td></tr>\n",
       "\t<tr><td>359           </td><td>Turkey        </td><td>2011          </td><td> 887.9525     </td><td>74.6          </td></tr>\n",
       "\t<tr><td>360           </td><td>Turkey        </td><td>2012          </td><td> 911.2930     </td><td>74.6          </td></tr>\n",
       "\t<tr><td>361           </td><td>Turkey        </td><td>2013          </td><td> 969.3608     </td><td>78.0          </td></tr>\n",
       "\t<tr><td>362           </td><td>Turkey        </td><td>2014          </td><td> 990.1908     </td><td>78.0          </td></tr>\n",
       "\t<tr><td>363           </td><td>Turkey        </td><td>2015          </td><td>1063.5506     </td><td>  NA          </td></tr>\n",
       "\t<tr><td>364           </td><td>United Kingdom</td><td>2005          </td><td>2568.4680     </td><td>79.2          </td></tr>\n",
       "\t<tr><td>365           </td><td>United Kingdom</td><td>2006          </td><td>2784.4890     </td><td>79.5          </td></tr>\n",
       "\t<tr><td>366           </td><td>United Kingdom</td><td>2007          </td><td>2862.4300     </td><td>79.7          </td></tr>\n",
       "\t<tr><td>367           </td><td>United Kingdom</td><td>2008          </td><td>2971.1540     </td><td>79.8          </td></tr>\n",
       "\t<tr><td>368           </td><td>United Kingdom</td><td>2009          </td><td>3150.2390     </td><td>80.4          </td></tr>\n",
       "\t<tr><td>369           </td><td>United Kingdom</td><td>2010          </td><td>3036.1200     </td><td>80.6          </td></tr>\n",
       "\t<tr><td>370           </td><td>United Kingdom</td><td>2011          </td><td>3087.3060     </td><td>81.0          </td></tr>\n",
       "\t<tr><td>371           </td><td>United Kingdom</td><td>2012          </td><td>3191.9360     </td><td>81.0          </td></tr>\n",
       "\t<tr><td>372           </td><td>United Kingdom</td><td>2013          </td><td>3881.0900     </td><td>81.1          </td></tr>\n",
       "\t<tr><td>373           </td><td>United Kingdom</td><td>2014          </td><td>3971.3940     </td><td>81.4          </td></tr>\n",
       "\t<tr><td>374           </td><td>United Kingdom</td><td>2015          </td><td>4003.0024     </td><td>  NA          </td></tr>\n",
       "\t<tr><td>375           </td><td>United States </td><td>2005          </td><td>6445.7053     </td><td>77.4          </td></tr>\n",
       "\t<tr><td>376           </td><td>United States </td><td>2006          </td><td>6809.4762     </td><td>77.7          </td></tr>\n",
       "\t<tr><td>377           </td><td>United States </td><td>2007          </td><td>7163.1718     </td><td>77.9          </td></tr>\n",
       "\t<tr><td>378           </td><td>United States </td><td>2008          </td><td>7414.0435     </td><td>78.1          </td></tr>\n",
       "\t<tr><td>379           </td><td>United States </td><td>2009          </td><td>7684.7611     </td><td>78.5          </td></tr>\n",
       "\t<tr><td>380           </td><td>United States </td><td>2010          </td><td>7929.3720     </td><td>78.6          </td></tr>\n",
       "\t<tr><td>381           </td><td>United States </td><td>2011          </td><td>8171.0784     </td><td>78.7          </td></tr>\n",
       "\t<tr><td>382           </td><td>United States </td><td>2012          </td><td>8422.9900     </td><td>78.8          </td></tr>\n",
       "\t<tr><td>383           </td><td>United States </td><td>2013          </td><td>8617.4287     </td><td>78.8          </td></tr>\n",
       "\t<tr><td>384           </td><td>United States </td><td>2014          </td><td>9024.2064     </td><td>78.8          </td></tr>\n",
       "\t<tr><td>385           </td><td>United States </td><td>2015          </td><td>9451.3423     </td><td>  NA          </td></tr>\n",
       "</tbody>\n",
       "</table>\n"
      ],
      "text/latex": [
       "\\begin{tabular}{r|lllll}\n",
       " X & Country & Year & Cost & LE\\\\\n",
       "\\hline\n",
       "\t  1        & Australia & 2005      & 2842.132  & 80.9     \\\\\n",
       "\t  2        & Australia & 2006      & 3023.098  & 81.1     \\\\\n",
       "\t  3        & Australia & 2007      & 3196.226  & 81.4     \\\\\n",
       "\t  4        & Australia & 2008      & 3310.171  & 81.5     \\\\\n",
       "\t  5        & Australia & 2009      & 3564.405  & 81.6     \\\\\n",
       "\t  6        & Australia & 2010      & 3607.341  & 81.8     \\\\\n",
       "\t  7        & Australia & 2011      & 3794.087  & 82.0     \\\\\n",
       "\t  8        & Australia & 2012      & 3807.682  & 82.1     \\\\\n",
       "\t  9        & Australia & 2013      & 4176.853  & 82.2     \\\\\n",
       "\t 10        & Australia & 2014      & 4206.852  & 82.4     \\\\\n",
       "\t 11        & Australia & 2015      & 4420.436  &   NA     \\\\\n",
       "\t 12        & Austria   & 2005      & 3324.079  & 79.4     \\\\\n",
       "\t 13        & Austria   & 2006      & 3567.649  & 80.0     \\\\\n",
       "\t 14        & Austria   & 2007      & 3718.739  & 80.3     \\\\\n",
       "\t 15        & Austria   & 2008      & 3964.849  & 80.5     \\\\\n",
       "\t 16        & Austria   & 2009      & 4119.745  & 80.4     \\\\\n",
       "\t 17        & Austria   & 2010      & 4236.316  & 80.7     \\\\\n",
       "\t 18        & Austria   & 2011      & 4362.343  & 81.1     \\\\\n",
       "\t 19        & Austria   & 2012      & 4646.436  & 81.0     \\\\\n",
       "\t 20        & Austria   & 2013      & 4806.393  & 81.2     \\\\\n",
       "\t 21        & Austria   & 2014      & 4895.999  & 81.6     \\\\\n",
       "\t 22        & Austria   & 2015      & 5015.637  &   NA     \\\\\n",
       "\t 23        & Belgium   & 2005      & 2985.809  & 79.1     \\\\\n",
       "\t 24        & Belgium   & 2006      & 3136.916  & 79.5     \\\\\n",
       "\t 25        & Belgium   & 2007      & 3286.225  & 79.9     \\\\\n",
       "\t 26        & Belgium   & 2008      & 3542.354  & 79.8     \\\\\n",
       "\t 27        & Belgium   & 2009      & 3804.764  & 80.1     \\\\\n",
       "\t 28        & Belgium   & 2010      & 3901.913  & 80.3     \\\\\n",
       "\t 29        & Belgium   & 2011      & 4132.311  & 80.7     \\\\\n",
       "\t 30        & Belgium   & 2012      & 4286.412  & 80.5     \\\\\n",
       "\t ... & ... & ... & ... & ...\\\\\n",
       "\t 356            & Turkey         & 2008           &  827.3149      & 73.9          \\\\\n",
       "\t 357            & Turkey         & 2009           &  841.2871      & 74.1          \\\\\n",
       "\t 358            & Turkey         & 2010           &  852.6704      & 74.3          \\\\\n",
       "\t 359            & Turkey         & 2011           &  887.9525      & 74.6          \\\\\n",
       "\t 360            & Turkey         & 2012           &  911.2930      & 74.6          \\\\\n",
       "\t 361            & Turkey         & 2013           &  969.3608      & 78.0          \\\\\n",
       "\t 362            & Turkey         & 2014           &  990.1908      & 78.0          \\\\\n",
       "\t 363            & Turkey         & 2015           & 1063.5506      &   NA          \\\\\n",
       "\t 364            & United Kingdom & 2005           & 2568.4680      & 79.2          \\\\\n",
       "\t 365            & United Kingdom & 2006           & 2784.4890      & 79.5          \\\\\n",
       "\t 366            & United Kingdom & 2007           & 2862.4300      & 79.7          \\\\\n",
       "\t 367            & United Kingdom & 2008           & 2971.1540      & 79.8          \\\\\n",
       "\t 368            & United Kingdom & 2009           & 3150.2390      & 80.4          \\\\\n",
       "\t 369            & United Kingdom & 2010           & 3036.1200      & 80.6          \\\\\n",
       "\t 370            & United Kingdom & 2011           & 3087.3060      & 81.0          \\\\\n",
       "\t 371            & United Kingdom & 2012           & 3191.9360      & 81.0          \\\\\n",
       "\t 372            & United Kingdom & 2013           & 3881.0900      & 81.1          \\\\\n",
       "\t 373            & United Kingdom & 2014           & 3971.3940      & 81.4          \\\\\n",
       "\t 374            & United Kingdom & 2015           & 4003.0024      &   NA          \\\\\n",
       "\t 375            & United States  & 2005           & 6445.7053      & 77.4          \\\\\n",
       "\t 376            & United States  & 2006           & 6809.4762      & 77.7          \\\\\n",
       "\t 377            & United States  & 2007           & 7163.1718      & 77.9          \\\\\n",
       "\t 378            & United States  & 2008           & 7414.0435      & 78.1          \\\\\n",
       "\t 379            & United States  & 2009           & 7684.7611      & 78.5          \\\\\n",
       "\t 380            & United States  & 2010           & 7929.3720      & 78.6          \\\\\n",
       "\t 381            & United States  & 2011           & 8171.0784      & 78.7          \\\\\n",
       "\t 382            & United States  & 2012           & 8422.9900      & 78.8          \\\\\n",
       "\t 383            & United States  & 2013           & 8617.4287      & 78.8          \\\\\n",
       "\t 384            & United States  & 2014           & 9024.2064      & 78.8          \\\\\n",
       "\t 385            & United States  & 2015           & 9451.3423      &   NA          \\\\\n",
       "\\end{tabular}\n"
      ],
      "text/markdown": [
       "\n",
       "X | Country | Year | Cost | LE | \n",
       "|---|---|---|---|---|---|---|---|---|---|---|---|---|---|---|---|---|---|---|---|---|---|---|---|---|---|---|---|---|---|---|---|---|---|---|---|---|---|---|---|---|---|---|---|---|---|---|---|---|---|---|---|---|---|---|---|---|---|---|---|---|\n",
       "|  1        | Australia | 2005      | 2842.132  | 80.9      | \n",
       "|  2        | Australia | 2006      | 3023.098  | 81.1      | \n",
       "|  3        | Australia | 2007      | 3196.226  | 81.4      | \n",
       "|  4        | Australia | 2008      | 3310.171  | 81.5      | \n",
       "|  5        | Australia | 2009      | 3564.405  | 81.6      | \n",
       "|  6        | Australia | 2010      | 3607.341  | 81.8      | \n",
       "|  7        | Australia | 2011      | 3794.087  | 82.0      | \n",
       "|  8        | Australia | 2012      | 3807.682  | 82.1      | \n",
       "|  9        | Australia | 2013      | 4176.853  | 82.2      | \n",
       "| 10        | Australia | 2014      | 4206.852  | 82.4      | \n",
       "| 11        | Australia | 2015      | 4420.436  |   NA      | \n",
       "| 12        | Austria   | 2005      | 3324.079  | 79.4      | \n",
       "| 13        | Austria   | 2006      | 3567.649  | 80.0      | \n",
       "| 14        | Austria   | 2007      | 3718.739  | 80.3      | \n",
       "| 15        | Austria   | 2008      | 3964.849  | 80.5      | \n",
       "| 16        | Austria   | 2009      | 4119.745  | 80.4      | \n",
       "| 17        | Austria   | 2010      | 4236.316  | 80.7      | \n",
       "| 18        | Austria   | 2011      | 4362.343  | 81.1      | \n",
       "| 19        | Austria   | 2012      | 4646.436  | 81.0      | \n",
       "| 20        | Austria   | 2013      | 4806.393  | 81.2      | \n",
       "| 21        | Austria   | 2014      | 4895.999  | 81.6      | \n",
       "| 22        | Austria   | 2015      | 5015.637  |   NA      | \n",
       "| 23        | Belgium   | 2005      | 2985.809  | 79.1      | \n",
       "| 24        | Belgium   | 2006      | 3136.916  | 79.5      | \n",
       "| 25        | Belgium   | 2007      | 3286.225  | 79.9      | \n",
       "| 26        | Belgium   | 2008      | 3542.354  | 79.8      | \n",
       "| 27        | Belgium   | 2009      | 3804.764  | 80.1      | \n",
       "| 28        | Belgium   | 2010      | 3901.913  | 80.3      | \n",
       "| 29        | Belgium   | 2011      | 4132.311  | 80.7      | \n",
       "| 30        | Belgium   | 2012      | 4286.412  | 80.5      | \n",
       "| ... | ... | ... | ... | ... | \n",
       "| 356            | Turkey         | 2008           |  827.3149      | 73.9           | \n",
       "| 357            | Turkey         | 2009           |  841.2871      | 74.1           | \n",
       "| 358            | Turkey         | 2010           |  852.6704      | 74.3           | \n",
       "| 359            | Turkey         | 2011           |  887.9525      | 74.6           | \n",
       "| 360            | Turkey         | 2012           |  911.2930      | 74.6           | \n",
       "| 361            | Turkey         | 2013           |  969.3608      | 78.0           | \n",
       "| 362            | Turkey         | 2014           |  990.1908      | 78.0           | \n",
       "| 363            | Turkey         | 2015           | 1063.5506      |   NA           | \n",
       "| 364            | United Kingdom | 2005           | 2568.4680      | 79.2           | \n",
       "| 365            | United Kingdom | 2006           | 2784.4890      | 79.5           | \n",
       "| 366            | United Kingdom | 2007           | 2862.4300      | 79.7           | \n",
       "| 367            | United Kingdom | 2008           | 2971.1540      | 79.8           | \n",
       "| 368            | United Kingdom | 2009           | 3150.2390      | 80.4           | \n",
       "| 369            | United Kingdom | 2010           | 3036.1200      | 80.6           | \n",
       "| 370            | United Kingdom | 2011           | 3087.3060      | 81.0           | \n",
       "| 371            | United Kingdom | 2012           | 3191.9360      | 81.0           | \n",
       "| 372            | United Kingdom | 2013           | 3881.0900      | 81.1           | \n",
       "| 373            | United Kingdom | 2014           | 3971.3940      | 81.4           | \n",
       "| 374            | United Kingdom | 2015           | 4003.0024      |   NA           | \n",
       "| 375            | United States  | 2005           | 6445.7053      | 77.4           | \n",
       "| 376            | United States  | 2006           | 6809.4762      | 77.7           | \n",
       "| 377            | United States  | 2007           | 7163.1718      | 77.9           | \n",
       "| 378            | United States  | 2008           | 7414.0435      | 78.1           | \n",
       "| 379            | United States  | 2009           | 7684.7611      | 78.5           | \n",
       "| 380            | United States  | 2010           | 7929.3720      | 78.6           | \n",
       "| 381            | United States  | 2011           | 8171.0784      | 78.7           | \n",
       "| 382            | United States  | 2012           | 8422.9900      | 78.8           | \n",
       "| 383            | United States  | 2013           | 8617.4287      | 78.8           | \n",
       "| 384            | United States  | 2014           | 9024.2064      | 78.8           | \n",
       "| 385            | United States  | 2015           | 9451.3423      |   NA           | \n",
       "\n",
       "\n"
      ],
      "text/plain": [
       "    X   Country        Year Cost      LE  \n",
       "1    1  Australia      2005 2842.132  80.9\n",
       "2    2  Australia      2006 3023.098  81.1\n",
       "3    3  Australia      2007 3196.226  81.4\n",
       "4    4  Australia      2008 3310.171  81.5\n",
       "5    5  Australia      2009 3564.405  81.6\n",
       "6    6  Australia      2010 3607.341  81.8\n",
       "7    7  Australia      2011 3794.087  82.0\n",
       "8    8  Australia      2012 3807.682  82.1\n",
       "9    9  Australia      2013 4176.853  82.2\n",
       "10  10  Australia      2014 4206.852  82.4\n",
       "11  11  Australia      2015 4420.436    NA\n",
       "12  12  Austria        2005 3324.079  79.4\n",
       "13  13  Austria        2006 3567.649  80.0\n",
       "14  14  Austria        2007 3718.739  80.3\n",
       "15  15  Austria        2008 3964.849  80.5\n",
       "16  16  Austria        2009 4119.745  80.4\n",
       "17  17  Austria        2010 4236.316  80.7\n",
       "18  18  Austria        2011 4362.343  81.1\n",
       "19  19  Austria        2012 4646.436  81.0\n",
       "20  20  Austria        2013 4806.393  81.2\n",
       "21  21  Austria        2014 4895.999  81.6\n",
       "22  22  Austria        2015 5015.637    NA\n",
       "23  23  Belgium        2005 2985.809  79.1\n",
       "24  24  Belgium        2006 3136.916  79.5\n",
       "25  25  Belgium        2007 3286.225  79.9\n",
       "26  26  Belgium        2008 3542.354  79.8\n",
       "27  27  Belgium        2009 3804.764  80.1\n",
       "28  28  Belgium        2010 3901.913  80.3\n",
       "29  29  Belgium        2011 4132.311  80.7\n",
       "30  30  Belgium        2012 4286.412  80.5\n",
       "... ... ...            ...  ...       ... \n",
       "356 356 Turkey         2008  827.3149 73.9\n",
       "357 357 Turkey         2009  841.2871 74.1\n",
       "358 358 Turkey         2010  852.6704 74.3\n",
       "359 359 Turkey         2011  887.9525 74.6\n",
       "360 360 Turkey         2012  911.2930 74.6\n",
       "361 361 Turkey         2013  969.3608 78.0\n",
       "362 362 Turkey         2014  990.1908 78.0\n",
       "363 363 Turkey         2015 1063.5506   NA\n",
       "364 364 United Kingdom 2005 2568.4680 79.2\n",
       "365 365 United Kingdom 2006 2784.4890 79.5\n",
       "366 366 United Kingdom 2007 2862.4300 79.7\n",
       "367 367 United Kingdom 2008 2971.1540 79.8\n",
       "368 368 United Kingdom 2009 3150.2390 80.4\n",
       "369 369 United Kingdom 2010 3036.1200 80.6\n",
       "370 370 United Kingdom 2011 3087.3060 81.0\n",
       "371 371 United Kingdom 2012 3191.9360 81.0\n",
       "372 372 United Kingdom 2013 3881.0900 81.1\n",
       "373 373 United Kingdom 2014 3971.3940 81.4\n",
       "374 374 United Kingdom 2015 4003.0024   NA\n",
       "375 375 United States  2005 6445.7053 77.4\n",
       "376 376 United States  2006 6809.4762 77.7\n",
       "377 377 United States  2007 7163.1718 77.9\n",
       "378 378 United States  2008 7414.0435 78.1\n",
       "379 379 United States  2009 7684.7611 78.5\n",
       "380 380 United States  2010 7929.3720 78.6\n",
       "381 381 United States  2011 8171.0784 78.7\n",
       "382 382 United States  2012 8422.9900 78.8\n",
       "383 383 United States  2013 8617.4287 78.8\n",
       "384 384 United States  2014 9024.2064 78.8\n",
       "385 385 United States  2015 9451.3423   NA"
      ]
     },
     "metadata": {},
     "output_type": "display_data"
    }
   ],
   "source": [
    "oecd"
   ]
  },
  {
   "cell_type": "markdown",
   "metadata": {},
   "source": [
    "just type out oecd, and we get the total data."
   ]
  },
  {
   "cell_type": "markdown",
   "metadata": {},
   "source": [
    "## Graphs"
   ]
  },
  {
   "cell_type": "markdown",
   "metadata": {},
   "source": [
    "To make the graphs we need to make selections of the data. Please use \"dplyr\" (commands \"select\" and \"filter\") and the \"pipe\". The first assignment is to make a scatterplot using \"ggplot\". The graph contains data for all countries for the year 2014. Therefore make a dataframe with dplyr first, called \"graph1\" with the required data.\n",
    "Then, make a scatterplot with \"Cost\" on the x-axis and \"LE\" on the y-axis. You have to add a regression line with a shaded area for the confidence interval."
   ]
  },
  {
   "cell_type": "code",
   "execution_count": 22,
   "metadata": {
    "collapsed": false
   },
   "outputs": [
    {
     "data": {
      "text/html": [
       "<table>\n",
       "<thead><tr><th scope=col>X</th><th scope=col>Country</th><th scope=col>Year</th><th scope=col>Cost</th><th scope=col>LE</th></tr></thead>\n",
       "<tbody>\n",
       "\t<tr><td> 10            </td><td>Australia      </td><td>2014           </td><td>4206.8516      </td><td>82.4           </td></tr>\n",
       "\t<tr><td> 21            </td><td>Austria        </td><td>2014           </td><td>4895.9992      </td><td>81.6           </td></tr>\n",
       "\t<tr><td> 32            </td><td>Belgium        </td><td>2014           </td><td>4522.0450      </td><td>81.4           </td></tr>\n",
       "\t<tr><td> 43            </td><td>Canada         </td><td>2014           </td><td>4491.7648      </td><td>  NA           </td></tr>\n",
       "\t<tr><td> 54            </td><td>Chile          </td><td>2014           </td><td>1688.5233      </td><td>79.0           </td></tr>\n",
       "\t<tr><td> 65            </td><td>Czech Republic </td><td>2014           </td><td>2386.3385      </td><td>78.9           </td></tr>\n",
       "\t<tr><td> 76            </td><td>Denmark        </td><td>2014           </td><td>4857.0285      </td><td>80.8           </td></tr>\n",
       "\t<tr><td> 87            </td><td>Estonia        </td><td>2014           </td><td>1724.5100      </td><td>77.2           </td></tr>\n",
       "\t<tr><td> 98            </td><td>Finland        </td><td>2014           </td><td>3870.4000      </td><td>81.3           </td></tr>\n",
       "\t<tr><td>109            </td><td>France         </td><td>2014           </td><td>4366.9864      </td><td>82.8           </td></tr>\n",
       "\t<tr><td>120            </td><td>Germany        </td><td>2014           </td><td>5119.2146      </td><td>81.2           </td></tr>\n",
       "\t<tr><td>131            </td><td>Greece         </td><td>2014           </td><td>2220.1065      </td><td>81.5           </td></tr>\n",
       "\t<tr><td>142            </td><td>Hungary        </td><td>2014           </td><td>1796.6034      </td><td>75.9           </td></tr>\n",
       "\t<tr><td>153            </td><td>Iceland        </td><td>2014           </td><td>3896.9251      </td><td>82.9           </td></tr>\n",
       "\t<tr><td>164            </td><td>Ireland        </td><td>2014           </td><td>5001.3220      </td><td>81.4           </td></tr>\n",
       "\t<tr><td>175            </td><td>Israel         </td><td>2014           </td><td>2547.4010      </td><td>82.2           </td></tr>\n",
       "\t<tr><td>186            </td><td>Italy          </td><td>2014           </td><td>3206.8286      </td><td>83.2           </td></tr>\n",
       "\t<tr><td>197            </td><td>Japan          </td><td>2014           </td><td>4152.3727      </td><td>83.7           </td></tr>\n",
       "\t<tr><td>208            </td><td>Korea          </td><td>2014           </td><td>2361.4400      </td><td>82.2           </td></tr>\n",
       "\t<tr><td>219            </td><td>Latvia         </td><td>2014           </td><td>1295.0128      </td><td>74.3           </td></tr>\n",
       "\t<tr><td>230            </td><td>Luxembourg     </td><td>2014           </td><td>6682.2370      </td><td>82.3           </td></tr>\n",
       "\t<tr><td>241            </td><td>Mexico         </td><td>2014           </td><td>1035.3389      </td><td>74.8           </td></tr>\n",
       "\t<tr><td>252            </td><td>Netherlands    </td><td>2014           </td><td>5276.6003      </td><td>81.8           </td></tr>\n",
       "\t<tr><td>263            </td><td>New Zealand    </td><td>2014           </td><td>3537.2568      </td><td>81.6           </td></tr>\n",
       "\t<tr><td>274            </td><td>Norway         </td><td>2014           </td><td>6080.9980      </td><td>82.2           </td></tr>\n",
       "\t<tr><td>285            </td><td>Poland         </td><td>2014           </td><td>1624.8655      </td><td>77.7           </td></tr>\n",
       "\t<tr><td>296            </td><td>Portugal       </td><td>2014           </td><td>2583.8438      </td><td>81.2           </td></tr>\n",
       "\t<tr><td>307            </td><td>Slovak Republic</td><td>2014           </td><td>1970.5230      </td><td>76.9           </td></tr>\n",
       "\t<tr><td>318            </td><td>Slovenia       </td><td>2014           </td><td>2598.9066      </td><td>81.2           </td></tr>\n",
       "\t<tr><td>329            </td><td>Spain          </td><td>2014           </td><td>3053.0745      </td><td>83.3           </td></tr>\n",
       "\t<tr><td>340            </td><td>Sweden         </td><td>2014           </td><td>5065.1613      </td><td>82.3           </td></tr>\n",
       "\t<tr><td>351            </td><td>Switzerland    </td><td>2014           </td><td>6786.5657      </td><td>83.3           </td></tr>\n",
       "\t<tr><td>362            </td><td>Turkey         </td><td>2014           </td><td> 990.1908      </td><td>78.0           </td></tr>\n",
       "\t<tr><td>373            </td><td>United Kingdom </td><td>2014           </td><td>3971.3940      </td><td>81.4           </td></tr>\n",
       "\t<tr><td>384            </td><td>United States  </td><td>2014           </td><td>9024.2064      </td><td>78.8           </td></tr>\n",
       "</tbody>\n",
       "</table>\n"
      ],
      "text/latex": [
       "\\begin{tabular}{r|lllll}\n",
       " X & Country & Year & Cost & LE\\\\\n",
       "\\hline\n",
       "\t  10             & Australia       & 2014            & 4206.8516       & 82.4           \\\\\n",
       "\t  21             & Austria         & 2014            & 4895.9992       & 81.6           \\\\\n",
       "\t  32             & Belgium         & 2014            & 4522.0450       & 81.4           \\\\\n",
       "\t  43             & Canada          & 2014            & 4491.7648       &   NA           \\\\\n",
       "\t  54             & Chile           & 2014            & 1688.5233       & 79.0           \\\\\n",
       "\t  65             & Czech Republic  & 2014            & 2386.3385       & 78.9           \\\\\n",
       "\t  76             & Denmark         & 2014            & 4857.0285       & 80.8           \\\\\n",
       "\t  87             & Estonia         & 2014            & 1724.5100       & 77.2           \\\\\n",
       "\t  98             & Finland         & 2014            & 3870.4000       & 81.3           \\\\\n",
       "\t 109             & France          & 2014            & 4366.9864       & 82.8           \\\\\n",
       "\t 120             & Germany         & 2014            & 5119.2146       & 81.2           \\\\\n",
       "\t 131             & Greece          & 2014            & 2220.1065       & 81.5           \\\\\n",
       "\t 142             & Hungary         & 2014            & 1796.6034       & 75.9           \\\\\n",
       "\t 153             & Iceland         & 2014            & 3896.9251       & 82.9           \\\\\n",
       "\t 164             & Ireland         & 2014            & 5001.3220       & 81.4           \\\\\n",
       "\t 175             & Israel          & 2014            & 2547.4010       & 82.2           \\\\\n",
       "\t 186             & Italy           & 2014            & 3206.8286       & 83.2           \\\\\n",
       "\t 197             & Japan           & 2014            & 4152.3727       & 83.7           \\\\\n",
       "\t 208             & Korea           & 2014            & 2361.4400       & 82.2           \\\\\n",
       "\t 219             & Latvia          & 2014            & 1295.0128       & 74.3           \\\\\n",
       "\t 230             & Luxembourg      & 2014            & 6682.2370       & 82.3           \\\\\n",
       "\t 241             & Mexico          & 2014            & 1035.3389       & 74.8           \\\\\n",
       "\t 252             & Netherlands     & 2014            & 5276.6003       & 81.8           \\\\\n",
       "\t 263             & New Zealand     & 2014            & 3537.2568       & 81.6           \\\\\n",
       "\t 274             & Norway          & 2014            & 6080.9980       & 82.2           \\\\\n",
       "\t 285             & Poland          & 2014            & 1624.8655       & 77.7           \\\\\n",
       "\t 296             & Portugal        & 2014            & 2583.8438       & 81.2           \\\\\n",
       "\t 307             & Slovak Republic & 2014            & 1970.5230       & 76.9           \\\\\n",
       "\t 318             & Slovenia        & 2014            & 2598.9066       & 81.2           \\\\\n",
       "\t 329             & Spain           & 2014            & 3053.0745       & 83.3           \\\\\n",
       "\t 340             & Sweden          & 2014            & 5065.1613       & 82.3           \\\\\n",
       "\t 351             & Switzerland     & 2014            & 6786.5657       & 83.3           \\\\\n",
       "\t 362             & Turkey          & 2014            &  990.1908       & 78.0           \\\\\n",
       "\t 373             & United Kingdom  & 2014            & 3971.3940       & 81.4           \\\\\n",
       "\t 384             & United States   & 2014            & 9024.2064       & 78.8           \\\\\n",
       "\\end{tabular}\n"
      ],
      "text/markdown": [
       "\n",
       "X | Country | Year | Cost | LE | \n",
       "|---|---|---|---|---|---|---|---|---|---|---|---|---|---|---|---|---|---|---|---|---|---|---|---|---|---|---|---|---|---|---|---|---|---|---|\n",
       "|  10             | Australia       | 2014            | 4206.8516       | 82.4            | \n",
       "|  21             | Austria         | 2014            | 4895.9992       | 81.6            | \n",
       "|  32             | Belgium         | 2014            | 4522.0450       | 81.4            | \n",
       "|  43             | Canada          | 2014            | 4491.7648       |   NA            | \n",
       "|  54             | Chile           | 2014            | 1688.5233       | 79.0            | \n",
       "|  65             | Czech Republic  | 2014            | 2386.3385       | 78.9            | \n",
       "|  76             | Denmark         | 2014            | 4857.0285       | 80.8            | \n",
       "|  87             | Estonia         | 2014            | 1724.5100       | 77.2            | \n",
       "|  98             | Finland         | 2014            | 3870.4000       | 81.3            | \n",
       "| 109             | France          | 2014            | 4366.9864       | 82.8            | \n",
       "| 120             | Germany         | 2014            | 5119.2146       | 81.2            | \n",
       "| 131             | Greece          | 2014            | 2220.1065       | 81.5            | \n",
       "| 142             | Hungary         | 2014            | 1796.6034       | 75.9            | \n",
       "| 153             | Iceland         | 2014            | 3896.9251       | 82.9            | \n",
       "| 164             | Ireland         | 2014            | 5001.3220       | 81.4            | \n",
       "| 175             | Israel          | 2014            | 2547.4010       | 82.2            | \n",
       "| 186             | Italy           | 2014            | 3206.8286       | 83.2            | \n",
       "| 197             | Japan           | 2014            | 4152.3727       | 83.7            | \n",
       "| 208             | Korea           | 2014            | 2361.4400       | 82.2            | \n",
       "| 219             | Latvia          | 2014            | 1295.0128       | 74.3            | \n",
       "| 230             | Luxembourg      | 2014            | 6682.2370       | 82.3            | \n",
       "| 241             | Mexico          | 2014            | 1035.3389       | 74.8            | \n",
       "| 252             | Netherlands     | 2014            | 5276.6003       | 81.8            | \n",
       "| 263             | New Zealand     | 2014            | 3537.2568       | 81.6            | \n",
       "| 274             | Norway          | 2014            | 6080.9980       | 82.2            | \n",
       "| 285             | Poland          | 2014            | 1624.8655       | 77.7            | \n",
       "| 296             | Portugal        | 2014            | 2583.8438       | 81.2            | \n",
       "| 307             | Slovak Republic | 2014            | 1970.5230       | 76.9            | \n",
       "| 318             | Slovenia        | 2014            | 2598.9066       | 81.2            | \n",
       "| 329             | Spain           | 2014            | 3053.0745       | 83.3            | \n",
       "| 340             | Sweden          | 2014            | 5065.1613       | 82.3            | \n",
       "| 351             | Switzerland     | 2014            | 6786.5657       | 83.3            | \n",
       "| 362             | Turkey          | 2014            |  990.1908       | 78.0            | \n",
       "| 373             | United Kingdom  | 2014            | 3971.3940       | 81.4            | \n",
       "| 384             | United States   | 2014            | 9024.2064       | 78.8            | \n",
       "\n",
       "\n"
      ],
      "text/plain": [
       "   X   Country         Year Cost      LE  \n",
       "1   10 Australia       2014 4206.8516 82.4\n",
       "2   21 Austria         2014 4895.9992 81.6\n",
       "3   32 Belgium         2014 4522.0450 81.4\n",
       "4   43 Canada          2014 4491.7648   NA\n",
       "5   54 Chile           2014 1688.5233 79.0\n",
       "6   65 Czech Republic  2014 2386.3385 78.9\n",
       "7   76 Denmark         2014 4857.0285 80.8\n",
       "8   87 Estonia         2014 1724.5100 77.2\n",
       "9   98 Finland         2014 3870.4000 81.3\n",
       "10 109 France          2014 4366.9864 82.8\n",
       "11 120 Germany         2014 5119.2146 81.2\n",
       "12 131 Greece          2014 2220.1065 81.5\n",
       "13 142 Hungary         2014 1796.6034 75.9\n",
       "14 153 Iceland         2014 3896.9251 82.9\n",
       "15 164 Ireland         2014 5001.3220 81.4\n",
       "16 175 Israel          2014 2547.4010 82.2\n",
       "17 186 Italy           2014 3206.8286 83.2\n",
       "18 197 Japan           2014 4152.3727 83.7\n",
       "19 208 Korea           2014 2361.4400 82.2\n",
       "20 219 Latvia          2014 1295.0128 74.3\n",
       "21 230 Luxembourg      2014 6682.2370 82.3\n",
       "22 241 Mexico          2014 1035.3389 74.8\n",
       "23 252 Netherlands     2014 5276.6003 81.8\n",
       "24 263 New Zealand     2014 3537.2568 81.6\n",
       "25 274 Norway          2014 6080.9980 82.2\n",
       "26 285 Poland          2014 1624.8655 77.7\n",
       "27 296 Portugal        2014 2583.8438 81.2\n",
       "28 307 Slovak Republic 2014 1970.5230 76.9\n",
       "29 318 Slovenia        2014 2598.9066 81.2\n",
       "30 329 Spain           2014 3053.0745 83.3\n",
       "31 340 Sweden          2014 5065.1613 82.3\n",
       "32 351 Switzerland     2014 6786.5657 83.3\n",
       "33 362 Turkey          2014  990.1908 78.0\n",
       "34 373 United Kingdom  2014 3971.3940 81.4\n",
       "35 384 United States   2014 9024.2064 78.8"
      ]
     },
     "metadata": {},
     "output_type": "display_data"
    }
   ],
   "source": [
    "graph1 <- oecd%>%\n",
    "select(X, Country, Year, Cost, LE) %>%\n",
    "filter(Year==2014)\n",
    "graph1"
   ]
  },
  {
   "cell_type": "markdown",
   "metadata": {},
   "source": [
    "with the elements select, filter and pipe we can select different parts from the total data and set them in a new table, we can filter them to the year 2014 (in this example) and with the function pipe we can use previous data for new data."
   ]
  },
  {
   "cell_type": "code",
   "execution_count": 36,
   "metadata": {
    "collapsed": false
   },
   "outputs": [
    {
     "name": "stderr",
     "output_type": "stream",
     "text": [
      "Warning message:\n",
      "\"Removed 1 rows containing non-finite values (stat_smooth).\"Warning message:\n",
      "\"Removed 1 rows containing missing values (geom_point).\""
     ]
    },
    {
     "data": {},
     "metadata": {},
     "output_type": "display_data"
    },
    {
     "data": {
      "image/png": "[encoded data removed]",
      "text/plain": [
       "plot without title"
      ]
     },
     "metadata": {},
     "output_type": "display_data"
    }
   ],
   "source": [
    "ggplot(graph1, aes(x=Cost, y=LE)) + geom_point() + geom_smooth(method=lm) "
   ]
  },
  {
   "cell_type": "markdown",
   "metadata": {},
   "source": [
    "From the data in the table we made a graph with ggplot."
   ]
  },
  {
   "cell_type": "markdown",
   "metadata": {},
   "source": [
    "The second assignment is to make a line graph. You will use the years 2005-2015 for 5 countries (you can choose your own countries). Make a new dataframe called graph2 with the required data. Then, make a line graph with \"Year\"  and \"Cost\" on the y-axis. There should be coloured lines per country and a legend attached. "
   ]
  },
  {
   "cell_type": "code",
   "execution_count": 37,
   "metadata": {
    "collapsed": false
   },
   "outputs": [
    {
     "data": {
      "text/html": [
       "<table>\n",
       "<thead><tr><th scope=col>Country</th><th scope=col>Year</th><th scope=col>Cost</th></tr></thead>\n",
       "<tbody>\n",
       "\t<tr><td>Netherlands  </td><td>2005         </td><td>3510.905     </td></tr>\n",
       "\t<tr><td>Netherlands  </td><td>2006         </td><td>3797.268     </td></tr>\n",
       "\t<tr><td>Netherlands  </td><td>2007         </td><td>4066.134     </td></tr>\n",
       "\t<tr><td>Netherlands  </td><td>2008         </td><td>4398.274     </td></tr>\n",
       "\t<tr><td>Netherlands  </td><td>2009         </td><td>4550.465     </td></tr>\n",
       "\t<tr><td>Netherlands  </td><td>2010         </td><td>4671.010     </td></tr>\n",
       "\t<tr><td>Netherlands  </td><td>2011         </td><td>4862.459     </td></tr>\n",
       "\t<tr><td>Netherlands  </td><td>2012         </td><td>5044.265     </td></tr>\n",
       "\t<tr><td>Netherlands  </td><td>2013         </td><td>5250.306     </td></tr>\n",
       "\t<tr><td>Netherlands  </td><td>2014         </td><td>5276.600     </td></tr>\n",
       "\t<tr><td>Netherlands  </td><td>2015         </td><td>5342.674     </td></tr>\n",
       "\t<tr><td>Portugal     </td><td>2005         </td><td>2082.204     </td></tr>\n",
       "\t<tr><td>Portugal     </td><td>2006         </td><td>2181.005     </td></tr>\n",
       "\t<tr><td>Portugal     </td><td>2007         </td><td>2286.540     </td></tr>\n",
       "\t<tr><td>Portugal     </td><td>2008         </td><td>2440.611     </td></tr>\n",
       "\t<tr><td>Portugal     </td><td>2009         </td><td>2589.160     </td></tr>\n",
       "\t<tr><td>Portugal     </td><td>2010         </td><td>2645.663     </td></tr>\n",
       "\t<tr><td>Portugal     </td><td>2011         </td><td>2566.971     </td></tr>\n",
       "\t<tr><td>Portugal     </td><td>2012         </td><td>2535.728     </td></tr>\n",
       "\t<tr><td>Portugal     </td><td>2013         </td><td>2538.705     </td></tr>\n",
       "\t<tr><td>Portugal     </td><td>2014         </td><td>2583.844     </td></tr>\n",
       "\t<tr><td>Portugal     </td><td>2015         </td><td>2631.350     </td></tr>\n",
       "\t<tr><td>Spain        </td><td>2005         </td><td>2139.333     </td></tr>\n",
       "\t<tr><td>Spain        </td><td>2006         </td><td>2393.307     </td></tr>\n",
       "\t<tr><td>Spain        </td><td>2007         </td><td>2570.706     </td></tr>\n",
       "\t<tr><td>Spain        </td><td>2008         </td><td>2795.869     </td></tr>\n",
       "\t<tr><td>Spain        </td><td>2009         </td><td>2944.620     </td></tr>\n",
       "\t<tr><td>Spain        </td><td>2010         </td><td>2917.950     </td></tr>\n",
       "\t<tr><td>Spain        </td><td>2011         </td><td>2956.786     </td></tr>\n",
       "\t<tr><td>Spain        </td><td>2012         </td><td>2929.357     </td></tr>\n",
       "\t<tr><td>Spain        </td><td>2013         </td><td>2952.175     </td></tr>\n",
       "\t<tr><td>Spain        </td><td>2014         </td><td>3053.075     </td></tr>\n",
       "\t<tr><td>Spain        </td><td>2015         </td><td>3152.987     </td></tr>\n",
       "\t<tr><td>Sweden       </td><td>2005         </td><td>2841.822     </td></tr>\n",
       "\t<tr><td>Sweden       </td><td>2006         </td><td>3066.204     </td></tr>\n",
       "\t<tr><td>Sweden       </td><td>2007         </td><td>3274.849     </td></tr>\n",
       "\t<tr><td>Sweden       </td><td>2008         </td><td>3481.590     </td></tr>\n",
       "\t<tr><td>Sweden       </td><td>2009         </td><td>3547.134     </td></tr>\n",
       "\t<tr><td>Sweden       </td><td>2010         </td><td>3543.582     </td></tr>\n",
       "\t<tr><td>Sweden       </td><td>2011         </td><td>4667.696     </td></tr>\n",
       "\t<tr><td>Sweden       </td><td>2012         </td><td>4860.252     </td></tr>\n",
       "\t<tr><td>Sweden       </td><td>2013         </td><td>5003.132     </td></tr>\n",
       "\t<tr><td>Sweden       </td><td>2014         </td><td>5065.161     </td></tr>\n",
       "\t<tr><td>Sweden       </td><td>2015         </td><td>5227.835     </td></tr>\n",
       "\t<tr><td>United States</td><td>2005         </td><td>6445.705     </td></tr>\n",
       "\t<tr><td>United States</td><td>2006         </td><td>6809.476     </td></tr>\n",
       "\t<tr><td>United States</td><td>2007         </td><td>7163.172     </td></tr>\n",
       "\t<tr><td>United States</td><td>2008         </td><td>7414.043     </td></tr>\n",
       "\t<tr><td>United States</td><td>2009         </td><td>7684.761     </td></tr>\n",
       "\t<tr><td>United States</td><td>2010         </td><td>7929.372     </td></tr>\n",
       "\t<tr><td>United States</td><td>2011         </td><td>8171.078     </td></tr>\n",
       "\t<tr><td>United States</td><td>2012         </td><td>8422.990     </td></tr>\n",
       "\t<tr><td>United States</td><td>2013         </td><td>8617.429     </td></tr>\n",
       "\t<tr><td>United States</td><td>2014         </td><td>9024.206     </td></tr>\n",
       "\t<tr><td>United States</td><td>2015         </td><td>9451.342     </td></tr>\n",
       "</tbody>\n",
       "</table>\n"
      ],
      "text/latex": [
       "\\begin{tabular}{r|lll}\n",
       " Country & Year & Cost\\\\\n",
       "\\hline\n",
       "\t Netherlands   & 2005          & 3510.905     \\\\\n",
       "\t Netherlands   & 2006          & 3797.268     \\\\\n",
       "\t Netherlands   & 2007          & 4066.134     \\\\\n",
       "\t Netherlands   & 2008          & 4398.274     \\\\\n",
       "\t Netherlands   & 2009          & 4550.465     \\\\\n",
       "\t Netherlands   & 2010          & 4671.010     \\\\\n",
       "\t Netherlands   & 2011          & 4862.459     \\\\\n",
       "\t Netherlands   & 2012          & 5044.265     \\\\\n",
       "\t Netherlands   & 2013          & 5250.306     \\\\\n",
       "\t Netherlands   & 2014          & 5276.600     \\\\\n",
       "\t Netherlands   & 2015          & 5342.674     \\\\\n",
       "\t Portugal      & 2005          & 2082.204     \\\\\n",
       "\t Portugal      & 2006          & 2181.005     \\\\\n",
       "\t Portugal      & 2007          & 2286.540     \\\\\n",
       "\t Portugal      & 2008          & 2440.611     \\\\\n",
       "\t Portugal      & 2009          & 2589.160     \\\\\n",
       "\t Portugal      & 2010          & 2645.663     \\\\\n",
       "\t Portugal      & 2011          & 2566.971     \\\\\n",
       "\t Portugal      & 2012          & 2535.728     \\\\\n",
       "\t Portugal      & 2013          & 2538.705     \\\\\n",
       "\t Portugal      & 2014          & 2583.844     \\\\\n",
       "\t Portugal      & 2015          & 2631.350     \\\\\n",
       "\t Spain         & 2005          & 2139.333     \\\\\n",
       "\t Spain         & 2006          & 2393.307     \\\\\n",
       "\t Spain         & 2007          & 2570.706     \\\\\n",
       "\t Spain         & 2008          & 2795.869     \\\\\n",
       "\t Spain         & 2009          & 2944.620     \\\\\n",
       "\t Spain         & 2010          & 2917.950     \\\\\n",
       "\t Spain         & 2011          & 2956.786     \\\\\n",
       "\t Spain         & 2012          & 2929.357     \\\\\n",
       "\t Spain         & 2013          & 2952.175     \\\\\n",
       "\t Spain         & 2014          & 3053.075     \\\\\n",
       "\t Spain         & 2015          & 3152.987     \\\\\n",
       "\t Sweden        & 2005          & 2841.822     \\\\\n",
       "\t Sweden        & 2006          & 3066.204     \\\\\n",
       "\t Sweden        & 2007          & 3274.849     \\\\\n",
       "\t Sweden        & 2008          & 3481.590     \\\\\n",
       "\t Sweden        & 2009          & 3547.134     \\\\\n",
       "\t Sweden        & 2010          & 3543.582     \\\\\n",
       "\t Sweden        & 2011          & 4667.696     \\\\\n",
       "\t Sweden        & 2012          & 4860.252     \\\\\n",
       "\t Sweden        & 2013          & 5003.132     \\\\\n",
       "\t Sweden        & 2014          & 5065.161     \\\\\n",
       "\t Sweden        & 2015          & 5227.835     \\\\\n",
       "\t United States & 2005          & 6445.705     \\\\\n",
       "\t United States & 2006          & 6809.476     \\\\\n",
       "\t United States & 2007          & 7163.172     \\\\\n",
       "\t United States & 2008          & 7414.043     \\\\\n",
       "\t United States & 2009          & 7684.761     \\\\\n",
       "\t United States & 2010          & 7929.372     \\\\\n",
       "\t United States & 2011          & 8171.078     \\\\\n",
       "\t United States & 2012          & 8422.990     \\\\\n",
       "\t United States & 2013          & 8617.429     \\\\\n",
       "\t United States & 2014          & 9024.206     \\\\\n",
       "\t United States & 2015          & 9451.342     \\\\\n",
       "\\end{tabular}\n"
      ],
      "text/markdown": [
       "\n",
       "Country | Year | Cost | \n",
       "|---|---|---|---|---|---|---|---|---|---|---|---|---|---|---|---|---|---|---|---|---|---|---|---|---|---|---|---|---|---|---|---|---|---|---|---|---|---|---|---|---|---|---|---|---|---|---|---|---|---|---|---|---|---|---|\n",
       "| Netherlands   | 2005          | 3510.905      | \n",
       "| Netherlands   | 2006          | 3797.268      | \n",
       "| Netherlands   | 2007          | 4066.134      | \n",
       "| Netherlands   | 2008          | 4398.274      | \n",
       "| Netherlands   | 2009          | 4550.465      | \n",
       "| Netherlands   | 2010          | 4671.010      | \n",
       "| Netherlands   | 2011          | 4862.459      | \n",
       "| Netherlands   | 2012          | 5044.265      | \n",
       "| Netherlands   | 2013          | 5250.306      | \n",
       "| Netherlands   | 2014          | 5276.600      | \n",
       "| Netherlands   | 2015          | 5342.674      | \n",
       "| Portugal      | 2005          | 2082.204      | \n",
       "| Portugal      | 2006          | 2181.005      | \n",
       "| Portugal      | 2007          | 2286.540      | \n",
       "| Portugal      | 2008          | 2440.611      | \n",
       "| Portugal      | 2009          | 2589.160      | \n",
       "| Portugal      | 2010          | 2645.663      | \n",
       "| Portugal      | 2011          | 2566.971      | \n",
       "| Portugal      | 2012          | 2535.728      | \n",
       "| Portugal      | 2013          | 2538.705      | \n",
       "| Portugal      | 2014          | 2583.844      | \n",
       "| Portugal      | 2015          | 2631.350      | \n",
       "| Spain         | 2005          | 2139.333      | \n",
       "| Spain         | 2006          | 2393.307      | \n",
       "| Spain         | 2007          | 2570.706      | \n",
       "| Spain         | 2008          | 2795.869      | \n",
       "| Spain         | 2009          | 2944.620      | \n",
       "| Spain         | 2010          | 2917.950      | \n",
       "| Spain         | 2011          | 2956.786      | \n",
       "| Spain         | 2012          | 2929.357      | \n",
       "| Spain         | 2013          | 2952.175      | \n",
       "| Spain         | 2014          | 3053.075      | \n",
       "| Spain         | 2015          | 3152.987      | \n",
       "| Sweden        | 2005          | 2841.822      | \n",
       "| Sweden        | 2006          | 3066.204      | \n",
       "| Sweden        | 2007          | 3274.849      | \n",
       "| Sweden        | 2008          | 3481.590      | \n",
       "| Sweden        | 2009          | 3547.134      | \n",
       "| Sweden        | 2010          | 3543.582      | \n",
       "| Sweden        | 2011          | 4667.696      | \n",
       "| Sweden        | 2012          | 4860.252      | \n",
       "| Sweden        | 2013          | 5003.132      | \n",
       "| Sweden        | 2014          | 5065.161      | \n",
       "| Sweden        | 2015          | 5227.835      | \n",
       "| United States | 2005          | 6445.705      | \n",
       "| United States | 2006          | 6809.476      | \n",
       "| United States | 2007          | 7163.172      | \n",
       "| United States | 2008          | 7414.043      | \n",
       "| United States | 2009          | 7684.761      | \n",
       "| United States | 2010          | 7929.372      | \n",
       "| United States | 2011          | 8171.078      | \n",
       "| United States | 2012          | 8422.990      | \n",
       "| United States | 2013          | 8617.429      | \n",
       "| United States | 2014          | 9024.206      | \n",
       "| United States | 2015          | 9451.342      | \n",
       "\n",
       "\n"
      ],
      "text/plain": [
       "   Country       Year Cost    \n",
       "1  Netherlands   2005 3510.905\n",
       "2  Netherlands   2006 3797.268\n",
       "3  Netherlands   2007 4066.134\n",
       "4  Netherlands   2008 4398.274\n",
       "5  Netherlands   2009 4550.465\n",
       "6  Netherlands   2010 4671.010\n",
       "7  Netherlands   2011 4862.459\n",
       "8  Netherlands   2012 5044.265\n",
       "9  Netherlands   2013 5250.306\n",
       "10 Netherlands   2014 5276.600\n",
       "11 Netherlands   2015 5342.674\n",
       "12 Portugal      2005 2082.204\n",
       "13 Portugal      2006 2181.005\n",
       "14 Portugal      2007 2286.540\n",
       "15 Portugal      2008 2440.611\n",
       "16 Portugal      2009 2589.160\n",
       "17 Portugal      2010 2645.663\n",
       "18 Portugal      2011 2566.971\n",
       "19 Portugal      2012 2535.728\n",
       "20 Portugal      2013 2538.705\n",
       "21 Portugal      2014 2583.844\n",
       "22 Portugal      2015 2631.350\n",
       "23 Spain         2005 2139.333\n",
       "24 Spain         2006 2393.307\n",
       "25 Spain         2007 2570.706\n",
       "26 Spain         2008 2795.869\n",
       "27 Spain         2009 2944.620\n",
       "28 Spain         2010 2917.950\n",
       "29 Spain         2011 2956.786\n",
       "30 Spain         2012 2929.357\n",
       "31 Spain         2013 2952.175\n",
       "32 Spain         2014 3053.075\n",
       "33 Spain         2015 3152.987\n",
       "34 Sweden        2005 2841.822\n",
       "35 Sweden        2006 3066.204\n",
       "36 Sweden        2007 3274.849\n",
       "37 Sweden        2008 3481.590\n",
       "38 Sweden        2009 3547.134\n",
       "39 Sweden        2010 3543.582\n",
       "40 Sweden        2011 4667.696\n",
       "41 Sweden        2012 4860.252\n",
       "42 Sweden        2013 5003.132\n",
       "43 Sweden        2014 5065.161\n",
       "44 Sweden        2015 5227.835\n",
       "45 United States 2005 6445.705\n",
       "46 United States 2006 6809.476\n",
       "47 United States 2007 7163.172\n",
       "48 United States 2008 7414.043\n",
       "49 United States 2009 7684.761\n",
       "50 United States 2010 7929.372\n",
       "51 United States 2011 8171.078\n",
       "52 United States 2012 8422.990\n",
       "53 United States 2013 8617.429\n",
       "54 United States 2014 9024.206\n",
       "55 United States 2015 9451.342"
      ]
     },
     "metadata": {},
     "output_type": "display_data"
    }
   ],
   "source": [
    "graph2 <- oecd %>%\n",
    "filter(Country %in% c('Spain', 'Portugal', 'Netherlands', 'Sweden', 'United States')) %>%\n",
    "select(Country, Year, Cost)\n",
    "graph2"
   ]
  },
  {
   "cell_type": "markdown",
   "metadata": {},
   "source": [
    "Again, we have to filter the data wich we want. Then we have to select the data wich we also want to see. "
   ]
  },
  {
   "cell_type": "code",
   "execution_count": 48,
   "metadata": {
    "collapsed": false
   },
   "outputs": [
    {
     "data": {},
     "metadata": {},
     "output_type": "display_data"
    },
    {
     "data": {
      "image/png": "[encoded data removed]",
      "text/plain": [
       "plot without title"
      ]
     },
     "metadata": {},
     "output_type": "display_data"
    }
   ],
   "source": [
    "ggplot(graph2, aes(x=Year, y=Cost, col=Country)) + geom_line()"
   ]
  },
  {
   "cell_type": "markdown",
   "metadata": {},
   "source": [
    "With the data we can make a graph again with ggplot and have a clear overview from different countries."
   ]
  },
  {
   "cell_type": "markdown",
   "metadata": {},
   "source": [
    "## Efficiency scores\n",
    "\n",
    "The last assignment is to compute simple effiency scores. We will use the year 2014 for all countries (i.e. the dataframe \"graph1\").\n",
    "Make a new dateframe called \"eff\" (using graph1). Please use the \"pipe\" to execute to following steps:\n",
    "Select all the variables except the NA's (hint: use na.omit) and create a new column called \"Ratio\" with mutate. Ratio is defined as \"Cost/LE\" (cost per output).\n",
    "Create a new column called \"Score\" with mutate. Score is the ratio per country divided by the lowest ratio in the dataframe.\n",
    "To complete this dataframe order the dataset using \"arrange\" based on score (i.e. lowest Score first).\n",
    "\n",
    "\n",
    "Finally make a bar chart using ggplot. Countries should be on the x-axis and \"Score\" on the y-axis. \n",
    "\n",
    "\n",
    "\n",
    "You can earn extra points if you are able to order the graph based on scores (lowest first, highest last), if you are able to make the x-axis readable, make the bar of the Netherlands red and the other bars blue and/or change the name of the y-axis to \"Efficiency scores according to [your name]\" \n",
    "\n",
    "\n",
    "The figure should like this:\n",
    "\n",
    "![My Figure](eff.png)"
   ]
  },
  {
   "cell_type": "code",
   "execution_count": 90,
   "metadata": {
    "collapsed": false
   },
   "outputs": [],
   "source": [
    "eff <- graph1 %>%\n",
    "na.omit(eff) %>%\n",
    "mutate(Ratio= Cost/LE) %>%\n",
    "mutate(Score = min(Ratio) / Ratio) %>%\n",
    "arrange(Score, Country)\n",
    "eff$col <- ifelse(eff$Country == 'Netherlands' , 'Red', 'Blue')"
   ]
  },
  {
   "cell_type": "code",
   "execution_count": 92,
   "metadata": {
    "collapsed": false
   },
   "outputs": [
    {
     "data": {},
     "metadata": {},
     "output_type": "display_data"
    },
    {
     "data": {
      "image/png": "[encoded data removed]",
      "text/plain": [
       "plot without title"
      ]
     },
     "metadata": {},
     "output_type": "display_data"
    }
   ],
   "source": [
    "ggplot(eff, aes(x = reorder(Country, Score), y=Score, fill=col)) + geom_bar(stat=\"identity\") + scale_fill_identity()+ theme(axis.text.x=element_text(angle=50\n",
    "                                                                                                                            ,hjust=1,vjust=1)) +labs(x='Countries', y='Efficiency score according to Jorrit')"
   ]
  },
  {
   "cell_type": "markdown",
   "metadata": {},
   "source": [
    "With mutate we can change the data so we can have functions within the data we already have. We also needed to arrange the data from small to large (wich is also what we see in the bar chart). We also want to see The Netherlands in Red. Again make a graph (this time a bar chart) with ggplot. "
   ]
  }
 ],
 "metadata": {
  "anaconda-cloud": {},
  "kernelspec": {
   "display_name": "R",
   "language": "R",
   "name": "ir"
  },
  "language_info": {
   "codemirror_mode": "r",
   "file_extension": ".r",
   "mimetype": "text/x-r-source",
   "name": "R",
   "pygments_lexer": "r",
   "version": "3.3.2"
  }
 },
 "nbformat": 4,
 "nbformat_minor": 1
}
